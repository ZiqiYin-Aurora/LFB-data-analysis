{
 "cells": [
  {
   "cell_type": "markdown",
   "id": "0bfe4c69",
   "metadata": {
    "deletable": false,
    "editable": false,
    "nbgrader": {
     "cell_type": "markdown",
     "checksum": "22bbc85e38849c78d96e93e212093908",
     "grade": false,
     "grade_id": "cell-63dd5fb30929547e",
     "locked": true,
     "schema_version": 3,
     "solution": false,
     "task": false
    }
   },
   "source": [
    "<div class=\"image\">\n",
    "\n",
    "  <img style=\"float: right;\" src=\"https://dx5i3n065oxey.cloudfront.net/platform/4186/assets/logo.png?v=2e76f927-9482-4bfb-9092-d9a0b595cd2c\" width=\"45%\" align=\"right\">\n",
    "      <h4>\n",
    "          <p style=\"font-size:20pt\">Programming for Business Analytics</p>\n",
    "          <p style=\"font-size:15pt\">Quiz 3 Resit</p>\n",
    "      </h4>\n",
    "</div>\n",
    "\n",
    "- Make sure you have executed the code in the cell below.\n",
    "- Make sure you read the questions carefully and follow the instructions.\n",
    "- Make sure you put the answers in the Answer cells.\n",
    "- Please do not put your answers in comments (after #).\n",
    "- Please do not add any new cells between the Question and Answer cells.\n",
    "- Please do not change the names of the variables in Answer cells.\n",
    "- Please do not assign the expected result directly to the variable.\n",
    "- Please do not change the pre-defined variables."
   ]
  },
  {
   "cell_type": "code",
   "execution_count": 1,
   "id": "1b7460e8",
   "metadata": {
    "deletable": false,
    "editable": false,
    "nbgrader": {
     "cell_type": "code",
     "checksum": "60060ddd6cd3fbc05027d1c097ddabd4",
     "grade": false,
     "grade_id": "cell-a3457d9e9bfcda53",
     "locked": true,
     "schema_version": 3,
     "solution": false,
     "task": false
    }
   },
   "outputs": [
    {
     "data": {
      "application/javascript": [
       "IPython.notebook.set_autosave_interval(120000)"
      ]
     },
     "metadata": {},
     "output_type": "display_data"
    },
    {
     "name": "stdout",
     "output_type": "stream",
     "text": [
      "Autosaving every 120 seconds\n"
     ]
    }
   ],
   "source": [
    "#Please make sure your Jupyter Notebook environment is running a Python 3 kernel \n",
    "import IPython\n",
    "assert IPython.version_info[0] >= 3, \"Your version of IPython is too old, please update it.\"\n",
    "%autosave 120"
   ]
  },
  {
   "cell_type": "markdown",
   "id": "b991b789",
   "metadata": {
    "deletable": false,
    "editable": false,
    "nbgrader": {
     "cell_type": "markdown",
     "checksum": "a4fa1e970459255df9254bf97f08aedd",
     "grade": false,
     "grade_id": "cell-76c1ac47134db52d",
     "locked": true,
     "schema_version": 3,
     "solution": false,
     "task": false
    }
   },
   "source": [
    "<div class=\"alert alert-warning\"> \n",
    "<b>QUESTION 1:</b> \n",
    "<p>If a function does not have a <code>return</code> statement, what would happen?</p> \n",
    "<p> a) The function will always lead to a <code>ValueError</code> if not returning a value.</p>\n",
    "<p> b) If the <code>return</code> statement is absent, the function will return <code>None</code>.</p>\n",
    "<p> c) If the <code>return</code> statement is absent, the function will return <code>True</code>.</p>\n",
    "<p> d) The function will enter an infinite loop because it won't know when to stop executing the code.</p>\n",
    "</div>"
   ]
  },
  {
   "cell_type": "code",
   "execution_count": null,
   "id": "089510ac",
   "metadata": {
    "deletable": false,
    "nbgrader": {
     "cell_type": "code",
     "checksum": "40bb6fc6b910dd044184f9039011c49d",
     "grade": false,
     "grade_id": "cell-91426b53c8aefd12",
     "locked": false,
     "schema_version": 3,
     "solution": true,
     "task": false
    }
   },
   "outputs": [],
   "source": [
    "###ANSWER(1). Please assign the letter representing the correct answer to the variable \n",
    "### (write it down between the \"\")\n",
    "answer_1 = \"\" # YOUR CODE SHOULD BE BETWEEN \"\""
   ]
  },
  {
   "cell_type": "code",
   "execution_count": null,
   "id": "01808fce",
   "metadata": {
    "deletable": false,
    "editable": false,
    "nbgrader": {
     "cell_type": "code",
     "checksum": "17ee27cbd747c5b2f1d1d07c07c3d6d7",
     "grade": true,
     "grade_id": "cell-cbfa17fcb81f309c",
     "locked": true,
     "points": 10,
     "schema_version": 3,
     "solution": false,
     "task": false
    }
   },
   "outputs": [],
   "source": [
    "#Please leave this cell blank."
   ]
  },
  {
   "cell_type": "markdown",
   "id": "3bfb5dbb",
   "metadata": {
    "deletable": false,
    "editable": false,
    "nbgrader": {
     "cell_type": "markdown",
     "checksum": "74bd875fac2652fdcc43bdaf13c9256b",
     "grade": false,
     "grade_id": "cell-1a4b7870e6f8c41d",
     "locked": true,
     "schema_version": 3,
     "solution": false,
     "task": false
    }
   },
   "source": [
    "<div class=\"alert alert-warning\"> \n",
    "<b>QUESTION 2:</b> \n",
    "<p>Create a function called <code><b>is_PositiveNum</b></code> which has one argument. The function <b>returns</b> <code>True</code> if the argument is a positive number. It <b>returns</b> <code>False</code> if the argument is 0 or a negative number. However, if the argument is not a number, the function <b>prints</b> <code>The argument is not a valid number.</code>.</p>\n",
    "<br>\n",
    "<p>Execute <code><b>is_PositiveNum(100)</b></code>, the expected returned output is <code>True</code>.</p>\n",
    "<p>Execute <code><b>is_PositiveNum(-5.5)</b></code>, the expected returned output is <code>False</code>.</p>\n",
    "<p>Execute <code><b>is_PositiveNum(\"It's getting colder and colder now.\")</b></code>, the expected printout is <code>The argument is not a valid number.</code></p>\n",
    "</div>"
   ]
  },
  {
   "cell_type": "code",
   "execution_count": null,
   "id": "82c36eac",
   "metadata": {
    "deletable": false,
    "nbgrader": {
     "cell_type": "code",
     "checksum": "56f904ddc9fb398df4d689b371218dbf",
     "grade": false,
     "grade_id": "cell-edf8fac437b0dcb2",
     "locked": false,
     "schema_version": 3,
     "solution": true,
     "task": false
    }
   },
   "outputs": [],
   "source": [
    "###ANSWER(2) \n",
    "# Write your code here.\n",
    "def is_PositiveNum\n"
   ]
  },
  {
   "cell_type": "code",
   "execution_count": null,
   "id": "0431298e",
   "metadata": {
    "deletable": false,
    "editable": false,
    "nbgrader": {
     "cell_type": "code",
     "checksum": "2cd8bbf5370e7dd6d4f42d7478c30a1d",
     "grade": true,
     "grade_id": "cell-d7b1e20920752334",
     "locked": true,
     "points": 10,
     "schema_version": 3,
     "solution": false,
     "task": false
    }
   },
   "outputs": [],
   "source": [
    "#Please leave this cell blank."
   ]
  },
  {
   "cell_type": "markdown",
   "id": "28c392c7",
   "metadata": {
    "deletable": false,
    "editable": false,
    "nbgrader": {
     "cell_type": "markdown",
     "checksum": "a6503225749144e5429dd5a87eed2626",
     "grade": false,
     "grade_id": "cell-a03270be0cf90e0b",
     "locked": true,
     "schema_version": 3,
     "solution": false,
     "task": false
    }
   },
   "source": [
    "<div class=\"alert alert-warning\"> \n",
    "<b>QUESTION 3:</b> \n",
    "<p>Use <code><b>with</b></code> statement to create a file named <code>DaylightSavingDate.txt</code> in the current directory and write <code>The daylight saving time of 2022 is 29 October.</code> to the file.</p>\n",
    "    \n",
    "</div>"
   ]
  },
  {
   "cell_type": "code",
   "execution_count": null,
   "id": "b745c2da",
   "metadata": {
    "deletable": false,
    "nbgrader": {
     "cell_type": "code",
     "checksum": "1e292296b6f505d996236ecb6a499441",
     "grade": false,
     "grade_id": "cell-862f36d847caa2f9",
     "locked": false,
     "schema_version": 3,
     "solution": true,
     "task": false
    }
   },
   "outputs": [],
   "source": [
    "###ANSWER(3)\n",
    "# Write your code here.\n"
   ]
  },
  {
   "cell_type": "code",
   "execution_count": null,
   "id": "11ca1dd4",
   "metadata": {
    "deletable": false,
    "editable": false,
    "nbgrader": {
     "cell_type": "code",
     "checksum": "9a21ffdf73dc53cde4ac2034a352eb85",
     "grade": true,
     "grade_id": "cell-4350c3a529fc4ba1",
     "locked": true,
     "points": 10,
     "schema_version": 3,
     "solution": false,
     "task": false
    }
   },
   "outputs": [],
   "source": [
    "#Please leave this cell blank."
   ]
  },
  {
   "cell_type": "markdown",
   "id": "46a82dbf",
   "metadata": {
    "deletable": false,
    "editable": false,
    "nbgrader": {
     "cell_type": "markdown",
     "checksum": "3058579b94def8bcc0dd1ebb335e89b1",
     "grade": false,
     "grade_id": "cell-43762bf668604531",
     "locked": true,
     "schema_version": 3,
     "solution": false,
     "task": false
    }
   },
   "source": [
    "<div class=\"alert alert-warning\">\n",
    "<b>QUESTION 4: </b>\n",
    "<p>Create a function called <code><b>split_by_e</b></code> which takes a string as the argument. The function splits the input string into a list using <code>e</code> as the separator and returns the result. If there is no <code>e</code> in the input string, the function would return a list that contains the string.</p>\n",
    "<br>\n",
    "<p>Execute <code><b>split_by_e(\"carrot\")</b></code>, the expected output is <code>[\"carrot\"]</code>.</p>\n",
    "<p>Execute <code><b>split_by_e(\"Fleas can jump 350 times its body length. \")</b></code>, the expected output is <code>['Fl', 'as can jump 350 tim', 's its body l', 'ngth. ']</code>.</p>\n",
    "<p>Execute <code><b>split_by_e(\"selection\")</b></code>, the expected output is <code>['s', 'l', 'ction']</code>.</p>\n",
    "</div>"
   ]
  },
  {
   "cell_type": "code",
   "execution_count": null,
   "id": "1d85158f",
   "metadata": {
    "deletable": false,
    "nbgrader": {
     "cell_type": "code",
     "checksum": "ed91100c1c933dd18ab58498c6717d75",
     "grade": false,
     "grade_id": "cell-f7d5413b9b3dd25d",
     "locked": false,
     "schema_version": 3,
     "solution": true,
     "task": false
    }
   },
   "outputs": [],
   "source": [
    "###ANSWER(4)\n",
    "# Write your code here.\n",
    "def split_by_e\n"
   ]
  },
  {
   "cell_type": "code",
   "execution_count": null,
   "id": "e60b7bda",
   "metadata": {
    "deletable": false,
    "editable": false,
    "nbgrader": {
     "cell_type": "code",
     "checksum": "8ee2f6fa50b7a228d75555dd890df0b3",
     "grade": true,
     "grade_id": "cell-c1de89c3178c00e8",
     "locked": true,
     "points": 10,
     "schema_version": 3,
     "solution": false,
     "task": false
    }
   },
   "outputs": [],
   "source": [
    "#Please leave this cell blank."
   ]
  },
  {
   "cell_type": "markdown",
   "id": "dfb30b01",
   "metadata": {
    "deletable": false,
    "editable": false,
    "nbgrader": {
     "cell_type": "markdown",
     "checksum": "aca365c901507f147931411994c457cf",
     "grade": false,
     "grade_id": "cell-bdc569420d69ff2a",
     "locked": true,
     "schema_version": 3,
     "solution": false,
     "task": false
    }
   },
   "source": [
    "<div class=\"alert alert-warning\">\n",
    "<b>QUESTION 5: </b>\n",
    "<p>Create a function called <code><b>is_RGB</b></code> which takes a list of three integers as the argument. The function returns <code>True</code> if the integers in the list can represent a valid RGB color; otherwise, the function returns <code>False</code>. A valid RGB color means that <b>ALL</b> the integers are in the range $[0,255]$ (both 0 and 255 are inclusive).</p>\n",
    "<br>\n",
    "<p>Execute <code><b>is_RGB([0,0,0])</b></code>, the expected output is <code>True</code>.</p>\n",
    "<p>Execute <code><b>is_RGB([256,0,0])</b></code>, the expected output is <code>False</code>.</p>\n",
    "</div>"
   ]
  },
  {
   "cell_type": "code",
   "execution_count": null,
   "id": "93156864",
   "metadata": {
    "deletable": false,
    "nbgrader": {
     "cell_type": "code",
     "checksum": "a36f564912b739320896c646208758e3",
     "grade": false,
     "grade_id": "cell-5efce669ee708f63",
     "locked": false,
     "schema_version": 3,
     "solution": true,
     "task": false
    }
   },
   "outputs": [],
   "source": [
    "###ANSWER(5)\n",
    "# Write your code here.\n",
    "def is_RGB\n"
   ]
  },
  {
   "cell_type": "code",
   "execution_count": null,
   "id": "aad96f14",
   "metadata": {
    "deletable": false,
    "editable": false,
    "nbgrader": {
     "cell_type": "code",
     "checksum": "c5b927b39077a28edeed21e5f15052ac",
     "grade": true,
     "grade_id": "cell-0dc43265bc6e6fe8",
     "locked": true,
     "points": 10,
     "schema_version": 3,
     "solution": false,
     "task": false
    }
   },
   "outputs": [],
   "source": [
    "#Please leave this cell blank."
   ]
  },
  {
   "cell_type": "markdown",
   "id": "3d93c26b",
   "metadata": {
    "deletable": false,
    "editable": false,
    "nbgrader": {
     "cell_type": "markdown",
     "checksum": "d1a9e24721fbface83772407cddf3bee",
     "grade": false,
     "grade_id": "cell-6d614bb847f069ad",
     "locked": true,
     "schema_version": 3,
     "solution": false,
     "task": false
    }
   },
   "source": [
    "<div class=\"alert alert-warning\"> \n",
    "<b>QUESTION 6:</b> \n",
    "<p>Create a function called <code><b>common_elements</b></code> which takes two lists of numbers as the arguments. The function returns a list of elements that appear in both input lists. For the element appears in both input lists for multiple times, it should appear in the returned list for the same number of times.</p>\n",
    "<br>\n",
    "<p>Execute <code><b>common_elements([2,2,2,3,1],[1,2,2,2,2,2])</b></code>, the expected output is <code>[1,2,2,2]</code>.</p>\n",
    "<p>Execute <code><b>common_elements([1,3,5,7,9,7,9,9],[1,3,9,9])</b></code>, the expected output is <code>[1,3,9,9]</code>.</p>\n",
    "<p>Execute <code><b>common_elements([1,2,2,3],[4,5])</b></code>, the expected output is <code>[]</code>.</p>\n",
    "    \n",
    "<br>\n",
    "<p>* Note: you don't need to sort the returned list.</p>\n",
    "</div>"
   ]
  },
  {
   "cell_type": "code",
   "execution_count": 4,
   "id": "1bf2d692",
   "metadata": {
    "deletable": false,
    "nbgrader": {
     "cell_type": "code",
     "checksum": "873d0178f76a9251e7704c34b305403e",
     "grade": false,
     "grade_id": "cell-f450a5ff15b49577",
     "locked": false,
     "schema_version": 3,
     "solution": true,
     "task": false
    }
   },
   "outputs": [
    {
     "data": {
      "text/plain": [
       "[2, 2, 2, 1]"
      ]
     },
     "execution_count": 4,
     "metadata": {},
     "output_type": "execute_result"
    }
   ],
   "source": [
    "###ANSWER(6)\n",
    "# Write your code here.\n",
    "def common_elements(a,b):\n",
    "    res = []\n",
    "    for element in a:\n",
    "        if element in b:\n",
    "            res.append(element)\n",
    "    return res\n",
    "\n",
    "common_elements([2,2,2,3,1],[1,2,2,2,2,2])"
   ]
  },
  {
   "cell_type": "code",
   "execution_count": null,
   "id": "f467580b",
   "metadata": {
    "deletable": false,
    "editable": false,
    "nbgrader": {
     "cell_type": "code",
     "checksum": "a372d09fd998552fa27d2287abd9e5f2",
     "grade": true,
     "grade_id": "cell-35ffe1a2a925f820",
     "locked": true,
     "points": 10,
     "schema_version": 3,
     "solution": false,
     "task": false
    }
   },
   "outputs": [],
   "source": [
    "#Please leave this cell blank."
   ]
  },
  {
   "cell_type": "markdown",
   "id": "63edc28f",
   "metadata": {
    "deletable": false,
    "editable": false,
    "nbgrader": {
     "cell_type": "markdown",
     "checksum": "b0468e70f4867257411ef4026ea991bf",
     "grade": false,
     "grade_id": "cell-16080e6aa3a94cae",
     "locked": true,
     "schema_version": 3,
     "solution": false,
     "task": false
    }
   },
   "source": [
    "<div class=\"alert alert-warning\"> \n",
    "<b>QUESTION 7:</b> \n",
    "<p>Create a function called <code><b>zig_flatten</b></code> that takes a list of lists as the argument. The function returns the flattened list of the input list. For the nested list with the index being an even number, the order of the elements in it should be kept the same. For the nested list with the index being an odd number, the order of the elements in it should be reversed.</p>  \n",
    "<br>\n",
    "<p>Execute <code><b>zig_flatten([[0,1,2,3],[4,5],[7,8,9]])</b></code>, the expected output is <code>[0,1,2,3,5,4,7,8,9]</code>. The index for sublist <code>[0,1,2,3]</code> is 0, hence the order of the elements should be kept; the index for sublist <code>[4,5]</code> is 1, hence the order of the elements should be reversed; the index for sublist <code>[7,8,9]</code> is 2, hence the order of the elements should be kept.</p>\n",
    "<p>Execute <code><b>zig_flatten([[0,1], [2,3], [4,5], [6,7], [8,9]])</b></code>, the expected output is <code>[0, 1, 3, 2, 4, 5, 7, 6, 8, 9]</code>.</p>\n",
    "<p>Execute <code><b>zig_flatten([[36]])</b></code>, the expected output is <code>[36]</code>.</p>\n",
    "</div>"
   ]
  },
  {
   "cell_type": "code",
   "execution_count": 14,
   "id": "d6fef095",
   "metadata": {
    "deletable": false,
    "nbgrader": {
     "cell_type": "code",
     "checksum": "80f3e45e8a271656b1d4381778d28dcb",
     "grade": false,
     "grade_id": "cell-ac66a396ca221097",
     "locked": false,
     "schema_version": 3,
     "solution": true,
     "task": false
    }
   },
   "outputs": [
    {
     "data": {
      "text/plain": [
       "[0, 1, 3, 2, 4, 5, 7, 6, 8, 9]"
      ]
     },
     "execution_count": 14,
     "metadata": {},
     "output_type": "execute_result"
    }
   ],
   "source": [
    "###ANSWER(7)\n",
    "# Write your code here.\n",
    "def zig_flatten(lst):\n",
    "    res = []\n",
    "    for idx, l in enumerate(lst):\n",
    "        if idx%2!=0:\n",
    "            res.append(sorted(l, reverse=True))\n",
    "        else:\n",
    "            res.append(l)\n",
    "    return [j for i in res for j in i]\n",
    "\n",
    "zig_flatten([[0,1,2,3],[4,5],[7,8,9]])\n",
    "zig_flatten([[0,1], [2,3], [4,5], [6,7], [8,9]])"
   ]
  },
  {
   "cell_type": "code",
   "execution_count": null,
   "id": "c9a0b149",
   "metadata": {
    "deletable": false,
    "editable": false,
    "nbgrader": {
     "cell_type": "code",
     "checksum": "165e8145b6f6a093c0f290d2c453d245",
     "grade": true,
     "grade_id": "cell-809b7be1dfc938f0",
     "locked": true,
     "points": 10,
     "schema_version": 3,
     "solution": false,
     "task": false
    }
   },
   "outputs": [],
   "source": [
    "#Please leave this cell blank."
   ]
  },
  {
   "cell_type": "markdown",
   "id": "04aad92e",
   "metadata": {
    "deletable": false,
    "editable": false,
    "nbgrader": {
     "cell_type": "markdown",
     "checksum": "d07ab558f058c8e940aee9bef60acc33",
     "grade": false,
     "grade_id": "cell-4eccfdec261336f9",
     "locked": true,
     "schema_version": 3,
     "solution": false,
     "task": false
    }
   },
   "source": [
    "<div class=\"alert alert-warning\"> \n",
    "<b>QUESTION 8:</b> \n",
    "<p>Create a function called <code><b>special_sort</b></code> that takes a list of numbers and a special number as the argument. The function returns the sorted list in which all the special numbers should be put at the end while others  should be sorted in ascending order.</p>  \n",
    "<br>\n",
    "<p>Execute <code><b>special_sort([2,2,3,3,4,5,1],2)</b></code>, the expected output is <code>[1,3,3,4,5,2,2]</code>.</p>\n",
    "<p>Execute <code><b>special_sort([10,20,25,30],30)</b></code>, the expected output is <code>[10,20,25,30]</code>.</p>\n",
    "<p>Execute <code><b>special_sort([1],1)</b></code>, the expected output is <code>[1]</code>.</p>\n",
    "<p>Execute <code><b>special_sort([1,0,0,2,7,7,8,9,8,0],0)</b></code>, the expected output is <code>[1,2,7,7,8,8,9,0,0,0]</code>.</p>\n",
    "</div>"
   ]
  },
  {
   "cell_type": "code",
   "execution_count": 8,
   "id": "a2d34d5e",
   "metadata": {
    "deletable": false,
    "nbgrader": {
     "cell_type": "code",
     "checksum": "038b66eded4c55cc26bdb95adeb33587",
     "grade": false,
     "grade_id": "cell-37c89e541ec4f780",
     "locked": false,
     "schema_version": 3,
     "solution": true,
     "task": false
    }
   },
   "outputs": [
    {
     "data": {
      "text/plain": [
       "[1, 2, 7, 7, 8, 8, 9, 0, 0, 0]"
      ]
     },
     "execution_count": 8,
     "metadata": {},
     "output_type": "execute_result"
    }
   ],
   "source": [
    "###ANSWER(8)\n",
    "# Write your code here.\n",
    "def special_sort(lst, a):\n",
    "    res1 = []\n",
    "    res2 = []\n",
    "    for i, j in enumerate(lst):\n",
    "        if j != a:\n",
    "            res1.append(j)\n",
    "        else:\n",
    "            res2.append(j)\n",
    "    return sorted(res1)+res2\n",
    "\n",
    "special_sort([2,2,3,3,4,5,1],2)\n",
    "special_sort([1,0,0,2,7,7,8,9,8,0],0)"
   ]
  },
  {
   "cell_type": "code",
   "execution_count": null,
   "id": "e4da2163",
   "metadata": {
    "deletable": false,
    "editable": false,
    "nbgrader": {
     "cell_type": "code",
     "checksum": "03a7bbad1c46bb5148aeaa1b873e25e5",
     "grade": true,
     "grade_id": "cell-ea098da58ef06f19",
     "locked": true,
     "points": 10,
     "schema_version": 3,
     "solution": false,
     "task": false
    }
   },
   "outputs": [],
   "source": [
    "#Please leave this cell blank."
   ]
  },
  {
   "cell_type": "markdown",
   "id": "174c9b13",
   "metadata": {
    "deletable": false,
    "editable": false,
    "nbgrader": {
     "cell_type": "markdown",
     "checksum": "daba3805024aae173c387e302b0862b6",
     "grade": false,
     "grade_id": "cell-80fbb38036c444e1",
     "locked": true,
     "schema_version": 3,
     "solution": false,
     "task": false
    }
   },
   "source": [
    "<div class=\"alert alert-warning\"> \n",
    "<b>QUESTION 9:</b> \n",
    "<p>Create a function called <code><b>sum_to_target</b></code> that takes a list of numbers and a target number as the arguments. The function returns <code>True</code> if there are <b>3</b> numbers at different positions from the list that can be summed up to the target number. It returns <code>False</code> otherwise.</p>  \n",
    "<br>\n",
    "<p>Execute <code><b>sum_to_target([0,0,1,1,1], 0)</b></code>, the expected output is <code>False</code> because there are only two 0's. </p>\n",
    "<p>Execute <code><b>sum_to_target([0,0,1,1,1,2], 2)</b></code>, the expected output is <code>True</code> because <code>[0,1,1]</code> or <code>[0,0,2]</code> can be summed up to the target number <code>2</code>.</p>\n",
    "<p>Execute <code><b>sum_to_target([-1,2,-3,4,-5], 5)</b></code>, the expected output is <code>True</code> because <code>[-1,2,4]</code> can be summed up to the target number <code>5</code>.</p>\n",
    "</div>"
   ]
  },
  {
   "cell_type": "code",
   "execution_count": null,
   "id": "9a8473d4",
   "metadata": {
    "deletable": false,
    "nbgrader": {
     "cell_type": "code",
     "checksum": "7667365e5dfdf177909e233507bbb051",
     "grade": false,
     "grade_id": "cell-afc7e088be562385",
     "locked": false,
     "schema_version": 3,
     "solution": true,
     "task": false
    }
   },
   "outputs": [],
   "source": [
    "###ANSWER(9)\n",
    "# Write your code here.\n",
    "def sum_to_target(lst, a):\n",
    "    \n"
   ]
  },
  {
   "cell_type": "code",
   "execution_count": null,
   "id": "f91eaae5",
   "metadata": {
    "deletable": false,
    "editable": false,
    "nbgrader": {
     "cell_type": "code",
     "checksum": "e87c483fa4231a0880ed502a00cffffb",
     "grade": true,
     "grade_id": "cell-9a7ca0161e215ab4",
     "locked": true,
     "points": 10,
     "schema_version": 3,
     "solution": false,
     "task": false
    }
   },
   "outputs": [],
   "source": [
    "#Please leave this cell blank."
   ]
  },
  {
   "cell_type": "markdown",
   "id": "e5d0805b",
   "metadata": {
    "deletable": false,
    "editable": false,
    "nbgrader": {
     "cell_type": "markdown",
     "checksum": "f6abede426c08c3e447cf8d42b07a710",
     "grade": false,
     "grade_id": "cell-12ba55211e961e93",
     "locked": true,
     "schema_version": 3,
     "solution": false,
     "task": false
    }
   },
   "source": [
    "<div class=\"alert alert-warning\"> \n",
    "<b>QUESTION 10:</b> \n",
    "<p>For any listed company, Stock prices for <i>i</i> days are recorded in a list that has <i>i</i> elements. For example, the k-th item in the price list is the price of the given stock on the k-th day.</p> \n",
    "<p>Create a function called <code><b>longest_waiting_time</b></code> that takes a list of stock prices as the argument. The function returns the highest number of days you have to wait until the stock price is higher than the price on the day the stock was bought. If the price goes down every day, the function returns <code>-1</code>.</p>  \n",
    "<br>\n",
    "<p>Execute <code><b>longest_waiting_time([20,10,50,60])</b></code>, the expected output is <code>2</code>. Explanation: If you buy the stock on the first day, the price is 20 and you have to wait for at least 2 days to have a higher price (on the third day). If you buy the stock on the second day, the stock price is 10 and you have to wait for 1 day to have a higher price (on the third day). Similarly, you have to wait one day for a higher price if you buy the stock on the third day. If you buy the stock on the fourth day, there is no price after it so this scenario can be ignored. The longest waiting time is 2 (when you buy stock on the first day).</p>\n",
    "<p>Excute <code><b>longest_waiting_time([70,60,50,40,20])</b></code>, the expected output is <code>-1</code>.</p>\n",
    "</div>"
   ]
  },
  {
   "cell_type": "code",
   "execution_count": null,
   "id": "213e4104",
   "metadata": {
    "deletable": false,
    "nbgrader": {
     "cell_type": "code",
     "checksum": "3beccda072280a01f7d7202650b65f61",
     "grade": false,
     "grade_id": "cell-f3b8a92013d46ca7",
     "locked": false,
     "schema_version": 3,
     "solution": true,
     "task": false
    }
   },
   "outputs": [],
   "source": [
    "###ANSWER(10)\n",
    "# Write your code here.\n",
    "def longest_waiting_time():\n",
    "    \n"
   ]
  },
  {
   "cell_type": "code",
   "execution_count": null,
   "id": "7f4fcfe1",
   "metadata": {
    "deletable": false,
    "editable": false,
    "nbgrader": {
     "cell_type": "code",
     "checksum": "329ca6776bcf5d4496f441d8ba63ec54",
     "grade": true,
     "grade_id": "cell-8339e8375181273c",
     "locked": true,
     "points": 10,
     "schema_version": 3,
     "solution": false,
     "task": false
    }
   },
   "outputs": [],
   "source": [
    "#Please leave this cell blank."
   ]
  }
 ],
 "metadata": {
  "kernelspec": {
   "display_name": "Python 3 (ipykernel)",
   "language": "python",
   "name": "python3"
  },
  "language_info": {
   "codemirror_mode": {
    "name": "ipython",
    "version": 3
   },
   "file_extension": ".py",
   "mimetype": "text/x-python",
   "name": "python",
   "nbconvert_exporter": "python",
   "pygments_lexer": "ipython3",
   "version": "3.9.12"
  }
 },
 "nbformat": 4,
 "nbformat_minor": 5
}
